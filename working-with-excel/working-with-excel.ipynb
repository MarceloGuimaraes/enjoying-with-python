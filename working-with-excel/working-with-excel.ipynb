{
 "cells": [
  {
   "cell_type": "code",
   "execution_count": 1,
   "metadata": {},
   "outputs": [],
   "source": [
    "import openpyxl \n",
    "\n",
    "file='02_SURF_Campos_Formularios_Alteracao_Vigencia_V06.xlsx'\n",
    "book = openpyxl.load_workbook(file)\n",
    "\n",
    "#total de sheets\n",
    "sheet_number = len(book.worksheets)\n",
    "\n",
    "sheetIniciar='INICIAR'\n",
    "\n",
    "dictSheets = {} \n",
    "sum = 1\n",
    "\n",
    "for Worksheets in book.worksheets:\n",
    "    dictSheets[Worksheets.title]=sum\n",
    "    sum = sum + 1"
   ]
  },
  {
   "cell_type": "code",
   "execution_count": 2,
   "metadata": {},
   "outputs": [
    {
     "name": "stdout",
     "output_type": "stream",
     "text": [
      "positionSheetIniciar: 4\n"
     ]
    }
   ],
   "source": [
    "#posicao da sheet INICIAR\n",
    "positionSheetIniciar = dictSheets.get(sheetIniciar)\n",
    "print\n",
    "print(\"positionSheetIniciar:\", int(positionSheetIniciar))"
   ]
  },
  {
   "cell_type": "code",
   "execution_count": 36,
   "metadata": {
    "scrolled": true
   },
   "outputs": [
    {
     "ename": "NameError",
     "evalue": "name 'df2' is not defined",
     "output_type": "error",
     "traceback": [
      "\u001b[1;31m---------------------------------------------------------------------------\u001b[0m",
      "\u001b[1;31mNameError\u001b[0m                                 Traceback (most recent call last)",
      "\u001b[1;32m<ipython-input-36-896f5385d2f3>\u001b[0m in \u001b[0;36m<module>\u001b[1;34m()\u001b[0m\n\u001b[0;32m      5\u001b[0m \u001b[0mdf\u001b[0m \u001b[1;33m=\u001b[0m \u001b[0mpd\u001b[0m\u001b[1;33m.\u001b[0m\u001b[0mread_excel\u001b[0m\u001b[1;33m(\u001b[0m\u001b[0mfile\u001b[0m\u001b[1;33m,\u001b[0m\u001b[0msheetIniciar\u001b[0m\u001b[1;33m,\u001b[0m\u001b[0musecols\u001b[0m\u001b[1;33m=\u001b[0m\u001b[1;34m'B,F'\u001b[0m\u001b[1;33m,\u001b[0m\u001b[0mdtype\u001b[0m \u001b[1;33m=\u001b[0m \u001b[0mstr\u001b[0m\u001b[1;33m,\u001b[0m\u001b[0mskiprows\u001b[0m\u001b[1;33m=\u001b[0m\u001b[1;36m1\u001b[0m\u001b[1;33m)\u001b[0m\u001b[1;33m\u001b[0m\u001b[0m\n\u001b[0;32m      6\u001b[0m \u001b[0mlist\u001b[0m\u001b[1;33m(\u001b[0m\u001b[0mdf\u001b[0m\u001b[1;33m.\u001b[0m\u001b[0mcolumns\u001b[0m\u001b[1;33m.\u001b[0m\u001b[0mvalues\u001b[0m\u001b[1;33m)\u001b[0m\u001b[1;33m\u001b[0m\u001b[0m\n\u001b[1;32m----> 7\u001b[1;33m \u001b[0mdf2\u001b[0m\u001b[1;33m[\u001b[0m\u001b[0mdf\u001b[0m\u001b[1;33m.\u001b[0m\u001b[0mCAMPO\u001b[0m \u001b[1;33m!=\u001b[0m \u001b[1;34m'nan'\u001b[0m\u001b[1;33m]\u001b[0m\u001b[1;33m\u001b[0m\u001b[0m\n\u001b[0m\u001b[0;32m      8\u001b[0m \u001b[1;31m#df.head()\u001b[0m\u001b[1;33m\u001b[0m\u001b[1;33m\u001b[0m\u001b[0m\n\u001b[0;32m      9\u001b[0m \u001b[1;31m#df.iloc[:]\u001b[0m\u001b[1;33m\u001b[0m\u001b[1;33m\u001b[0m\u001b[0m\n",
      "\u001b[1;31mNameError\u001b[0m: name 'df2' is not defined"
     ]
    }
   ],
   "source": [
    "#df.replace('NAN', '')\n",
    "#f.drop([0])\n",
    "#df.iloc[:]\n",
    "import pandas as pd\n",
    "df = pd.read_excel(file,sheetIniciar,usecols='B,F',dtype = str,skiprows=1)\n",
    "list(df.columns.values)\n",
    "df2[df.CAMPO != 'nan']\n",
    "#df.head()\n",
    "#df.iloc[:]\n",
    "#import numpy as np\n",
    "#np.array(df)\n",
    "#mask = df['NOME ETAPA:'].isin(['nan'])\n",
    "#df[~mask]\n",
    "#df[df.NOME ETAPA != 'nan']\n",
    "#df.iloc[:]"
   ]
  },
  {
   "cell_type": "code",
   "execution_count": 35,
   "metadata": {},
   "outputs": [
    {
     "data": {
      "text/plain": [
       "array([['SAP', 'NÚMERO INTEIRO'],\n",
       "       ['Razão Social', 'TEXTO RAZÃO SOCIAL'],\n",
       "       ['CNPJ', 'NÚMERO CNPJ'],\n",
       "       ['Endereço', 'TEXTO ENDEREÇO'],\n",
       "       ['Bairro', 'TEXTO BAIRRO'],\n",
       "       ['Cidade', 'TEXTO CIDADE'],\n",
       "       ['UF', 'UF SELEÇÃO ÚNICA'],\n",
       "       ['CEP', 'NÚMERO CEP'],\n",
       "       ['Canal', 'ESCOLHA SELEÇÃO ÚNICA'],\n",
       "       ['Regional', 'ESCOLHA SELEÇÃO ÚNICA'],\n",
       "       ['Solicitante', 'TEXTO UMA LINHA'],\n",
       "       ['E-mail solicitante', 'E-MAIL'],\n",
       "       ['Número Contrato', 'NÚMERO INTEIRO'],\n",
       "       ['Data Fim Vigência', 'DATA'],\n",
       "       ['Período de Prorrogação', 'TEXTO UMA LINHA'],\n",
       "       ['Anexo', 'ANEXO'],\n",
       "       ['Data início', 'DATA DO REGISTRO'],\n",
       "       ['Observação', 'TEXTO OBSERVAÇÃO'],\n",
       "       ['nan', 'nan'],\n",
       "       ['nan', 'nan'],\n",
       "       ['nan', 'nan'],\n",
       "       ['nan', 'nan'],\n",
       "       ['nan', 'nan'],\n",
       "       ['nan', 'nan'],\n",
       "       ['nan', 'nan'],\n",
       "       ['nan', 'nan'],\n",
       "       ['nan', 'nan']], dtype=object)"
      ]
     },
     "execution_count": 35,
     "metadata": {},
     "output_type": "execute_result"
    }
   ],
   "source": [
    "import numpy as np\n",
    "np.array(df2)"
   ]
  },
  {
   "cell_type": "code",
   "execution_count": 10,
   "metadata": {},
   "outputs": [
    {
     "name": "stdout",
     "output_type": "stream",
     "text": [
      "row:  0\n",
      "col:  0\n",
      "col:  1\n",
      "row:  1\n",
      "col:  0\n",
      "col:  1\n",
      "row:  2\n",
      "col:  0\n",
      "col:  1\n",
      "row:  3\n",
      "col:  0\n",
      "col:  1\n",
      "row:  4\n",
      "col:  0\n",
      "col:  1\n",
      "row:  5\n",
      "col:  0\n",
      "col:  1\n",
      "row:  6\n",
      "col:  0\n",
      "col:  1\n",
      "row:  7\n",
      "col:  0\n",
      "col:  1\n",
      "row:  8\n",
      "col:  0\n",
      "col:  1\n",
      "row:  9\n",
      "col:  0\n",
      "col:  1\n",
      "row:  10\n",
      "col:  0\n",
      "col:  1\n",
      "row:  11\n",
      "col:  0\n",
      "col:  1\n",
      "row:  12\n",
      "col:  0\n",
      "col:  1\n",
      "row:  13\n",
      "col:  0\n",
      "col:  1\n",
      "row:  14\n",
      "col:  0\n",
      "col:  1\n",
      "row:  15\n",
      "col:  0\n",
      "col:  1\n",
      "row:  16\n",
      "col:  0\n",
      "col:  1\n",
      "row:  17\n",
      "col:  0\n",
      "col:  1\n",
      "row:  18\n",
      "col:  0\n",
      "col:  1\n",
      "row:  19\n",
      "col:  0\n",
      "col:  1\n",
      "row:  20\n",
      "col:  0\n",
      "col:  1\n",
      "row:  21\n",
      "col:  0\n",
      "col:  1\n",
      "row:  22\n",
      "col:  0\n",
      "col:  1\n",
      "row:  23\n",
      "col:  0\n",
      "col:  1\n",
      "row:  24\n",
      "col:  0\n",
      "col:  1\n",
      "row:  25\n",
      "col:  0\n",
      "col:  1\n",
      "row:  26\n",
      "col:  0\n",
      "col:  1\n"
     ]
    }
   ],
   "source": [
    "campos = {} \n",
    "\n",
    "#ler da sheet INICIAR em diante\n",
    "for key, value in dictSheets.items():\n",
    "    if sheetIniciar in key:\n",
    "    #if value >= positionSheetIniciar:\n",
    "        #print(\"value: \", value, \"key: \",key)\n",
    "        df = pd.read_excel(file,key,usecols='B,F',dtype = str,skiprows=1)\n",
    "        for row in range(df.shape[0]):\n",
    "            print(\"row: \", int(row))\n",
    "            for col in range(df.shape[1]):\n",
    "                print(\"col: \", int(col))               "
   ]
  },
  {
   "cell_type": "code",
   "execution_count": 158,
   "metadata": {},
   "outputs": [
    {
     "name": "stdout",
     "output_type": "stream",
     "text": [
      "SAP \n",
      "NÚMERO INTEIRO NÚMERO INTEIRO\n",
      "Razão Social \n",
      "TEXTO RAZÃO SOCIAL TEXTO RAZÃO SOCIAL\n",
      "CNPJ \n",
      "NÚMERO CNPJ NÚMERO CNPJ\n",
      "Endereço \n",
      "TEXTO ENDEREÇO TEXTO ENDEREÇO\n",
      "Bairro \n",
      "TEXTO BAIRRO TEXTO BAIRRO\n",
      "Cidade \n",
      "TEXTO CIDADE TEXTO CIDADE\n",
      "UF \n",
      "UF SELEÇÃO ÚNICA UF SELEÇÃO ÚNICA\n",
      "CEP \n",
      "NÚMERO CEP NÚMERO CEP\n",
      "Canal \n",
      "ESCOLHA SELEÇÃO ÚNICA ESCOLHA SELEÇÃO ÚNICA\n",
      "Regional \n",
      "Solicitante \n",
      "TEXTO UMA LINHA TEXTO UMA LINHA\n",
      "E-mail solicitante \n",
      "E-MAIL E-MAIL\n",
      "Número Contrato \n",
      "Data Fim Vigência \n",
      "DATA DATA\n",
      "Período de Prorrogação \n",
      "Anexo \n",
      "ANEXO ANEXO\n",
      "Data início \n",
      "DATA DO REGISTRO DATA DO REGISTRO\n",
      "Observação \n",
      "TEXTO OBSERVAÇÃO TEXTO OBSERVAÇÃO\n",
      "nan nan\n"
     ]
    }
   ],
   "source": [
    "for key, value in campos.items():\n",
    "    print(key,value)"
   ]
  }
 ],
 "metadata": {
  "kernelspec": {
   "display_name": "Python 3",
   "language": "python",
   "name": "python3"
  },
  "language_info": {
   "codemirror_mode": {
    "name": "ipython",
    "version": 3
   },
   "file_extension": ".py",
   "mimetype": "text/x-python",
   "name": "python",
   "nbconvert_exporter": "python",
   "pygments_lexer": "ipython3",
   "version": "3.6.5"
  }
 },
 "nbformat": 4,
 "nbformat_minor": 2
}
